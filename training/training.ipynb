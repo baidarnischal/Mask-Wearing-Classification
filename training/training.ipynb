{
 "cells": [
  {
   "cell_type": "markdown",
   "id": "6683a848-0045-40c9-8166-67a4f1cc449e",
   "metadata": {},
   "source": [
    "# Importing Dependencies"
   ]
  },
  {
   "cell_type": "code",
   "execution_count": 13,
   "id": "3ad8a01b-23b0-4911-b8cf-8f4373f0c56a",
   "metadata": {},
   "outputs": [],
   "source": [
    "import tensorflow as tf\n",
    "from tensorflow.keras import models, layers\n",
    "import matplotlib.pyplot as plt"
   ]
  },
  {
   "cell_type": "code",
   "execution_count": 14,
   "id": "a068e8f1-7964-4c26-ab8f-9fb110f9ccb0",
   "metadata": {},
   "outputs": [],
   "source": [
    "# !pip install tensorflow"
   ]
  },
  {
   "cell_type": "code",
   "execution_count": 15,
   "id": "c4ccd0bd-ee05-4019-a734-fa2a3269a6a0",
   "metadata": {},
   "outputs": [],
   "source": [
    "# !pip install matplotlib"
   ]
  },
  {
   "cell_type": "markdown",
   "id": "ba22039d-2a80-491e-8f7c-a95406f7362f",
   "metadata": {},
   "source": [
    "# Checking versions"
   ]
  },
  {
   "cell_type": "code",
   "execution_count": 16,
   "id": "47844f14-f8af-4c81-a263-6d7fe56768c3",
   "metadata": {},
   "outputs": [
    {
     "name": "stdout",
     "output_type": "stream",
     "text": [
      "2.19.0\n",
      "3.10.1\n",
      "3.10.1\n"
     ]
    }
   ],
   "source": [
    "print(tf.__version__)\n",
    "print(plt.matplotlib.__version__)\n",
    "\n",
    "import matplotlib\n",
    "print(matplotlib.__version__)"
   ]
  },
  {
   "cell_type": "markdown",
   "id": "681f5114-c8bc-43bf-8e3b-b86d9dddac8f",
   "metadata": {},
   "source": [
    "# Load data into tf Dataset"
   ]
  },
  {
   "cell_type": "code",
   "execution_count": 35,
   "id": "6e414850-21e2-4dc8-a041-e378adef47ce",
   "metadata": {},
   "outputs": [],
   "source": [
    "IMAGE_SIZE=128 #it is seen by choosing one image that can be any from the dataset then rightclick and see its properties > detail and we can see height and width or simply dimensions\n",
    "BATCH_SIZE=32\n",
    "CHANNELS=3"
   ]
  },
  {
   "cell_type": "code",
   "execution_count": 36,
   "id": "0939264d-5cfe-47bc-85df-273ca7390780",
   "metadata": {},
   "outputs": [
    {
     "name": "stdout",
     "output_type": "stream",
     "text": [
      "Found 8982 files belonging to 3 classes.\n",
      "Executing op _EagerConst in device /job:localhost/replica:0/task:0/device:CPU:0\n",
      "Executing op TensorSliceDataset in device /job:localhost/replica:0/task:0/device:CPU:0\n",
      "Executing op _EagerConst in device /job:localhost/replica:0/task:0/device:CPU:0\n",
      "Executing op TensorSliceDataset in device /job:localhost/replica:0/task:0/device:CPU:0\n",
      "Executing op ZipDataset in device /job:localhost/replica:0/task:0/device:CPU:0\n",
      "Executing op _EagerConst in device /job:localhost/replica:0/task:0/device:CPU:0\n",
      "Executing op Equal in device /job:localhost/replica:0/task:0/device:CPU:0\n",
      "Executing op Equal in device /job:localhost/replica:0/task:0/device:CPU:0\n",
      "Executing op LogicalAnd in device /job:localhost/replica:0/task:0/device:CPU:0\n",
      "Executing op SelectV2 in device /job:localhost/replica:0/task:0/device:CPU:0\n",
      "Executing op DummySeedGenerator in device /job:localhost/replica:0/task:0/device:CPU:0\n",
      "Executing op ShuffleDatasetV3 in device /job:localhost/replica:0/task:0/device:CPU:0\n",
      "Executing op ParallelMapDatasetV2 in device /job:localhost/replica:0/task:0/device:CPU:0\n",
      "Executing op BatchDatasetV2 in device /job:localhost/replica:0/task:0/device:CPU:0\n",
      "Executing op PrefetchDataset in device /job:localhost/replica:0/task:0/device:CPU:0\n"
     ]
    }
   ],
   "source": [
    "dataset=tf.keras.preprocessing.image_dataset_from_directory(\n",
    "    directory=\"Dataset\",\n",
    "    shuffle= True,\n",
    "    image_size= (IMAGE_SIZE, IMAGE_SIZE),\n",
    "    batch_size= BATCH_SIZE\n",
    ")"
   ]
  },
  {
   "cell_type": "code",
   "execution_count": 37,
   "id": "aa8a32de-d58e-4836-878f-ab597247427f",
   "metadata": {},
   "outputs": [
    {
     "data": {
      "text/plain": [
       "['mask_weared_incorrect', 'with_mask', 'without_mask']"
      ]
     },
     "execution_count": 37,
     "metadata": {},
     "output_type": "execute_result"
    }
   ],
   "source": [
    "class_names=dataset.class_names\n",
    "class_names"
   ]
  },
  {
   "cell_type": "code",
   "execution_count": 38,
   "id": "02c4d8a3-fb9a-4221-98f1-864f75a879dc",
   "metadata": {},
   "outputs": [
    {
     "name": "stdout",
     "output_type": "stream",
     "text": [
      "Executing op DatasetCardinality in device /job:localhost/replica:0/task:0/device:CPU:0\n"
     ]
    },
    {
     "data": {
      "text/plain": [
       "281"
      ]
     },
     "execution_count": 38,
     "metadata": {},
     "output_type": "execute_result"
    }
   ],
   "source": [
    "len(dataset) #It is showing 281 cause every element in the dataset is actually the batch of 32 images "
   ]
  },
  {
   "cell_type": "code",
   "execution_count": 39,
   "id": "92ba3315-19f7-4be8-96ff-9bbe8a908700",
   "metadata": {},
   "outputs": [
    {
     "data": {
      "text/plain": [
       "8992"
      ]
     },
     "execution_count": 39,
     "metadata": {},
     "output_type": "execute_result"
    }
   ],
   "source": [
    "281*32 # It shows the complete number of images in the dataset"
   ]
  },
  {
   "cell_type": "code",
   "execution_count": 40,
   "id": "d2d6d213-9883-46d6-8b58-beada2a76c25",
   "metadata": {},
   "outputs": [
    {
     "name": "stdout",
     "output_type": "stream",
     "text": [
      "Executing op TakeDataset in device /job:localhost/replica:0/task:0/device:CPU:0\n",
      "Executing op AnonymousIteratorV3 in device /job:localhost/replica:0/task:0/device:CPU:0\n",
      "Executing op MakeIterator in device /job:localhost/replica:0/task:0/device:CPU:0\n",
      "Executing op IteratorGetNext in device /job:localhost/replica:0/task:0/device:CPU:0\n",
      "(32, 128, 128, 3)\n",
      "[0 2 2 1 0 2 1 1 2 0 0 0 0 2 1 2 2 0 2 1 1 0 2 0 2 2 0 2 1 1 1 0]\n",
      "Executing op IteratorGetNext in device /job:localhost/replica:0/task:0/device:CPU:0\n"
     ]
    }
   ],
   "source": [
    "for image_batch, label_batch in dataset.take(1):\n",
    "    print(image_batch.shape)\n",
    "    print(label_batch.numpy())"
   ]
  },
  {
   "cell_type": "code",
   "execution_count": null,
   "id": "d761e872-866f-4a05-a776-f8d2e89ea8b8",
   "metadata": {},
   "outputs": [],
   "source": []
  }
 ],
 "metadata": {
  "kernelspec": {
   "display_name": "Python 3 (ipykernel)",
   "language": "python",
   "name": "python3"
  },
  "language_info": {
   "codemirror_mode": {
    "name": "ipython",
    "version": 3
   },
   "file_extension": ".py",
   "mimetype": "text/x-python",
   "name": "python",
   "nbconvert_exporter": "python",
   "pygments_lexer": "ipython3",
   "version": "3.11.9"
  }
 },
 "nbformat": 4,
 "nbformat_minor": 5
}
